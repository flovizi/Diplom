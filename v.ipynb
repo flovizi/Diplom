{
 "cells": [
  {
   "cell_type": "code",
   "execution_count": 58,
   "metadata": {},
   "outputs": [
    {
     "data": {
      "text/plain": [
       "torch.Size([1002, 167])"
      ]
     },
     "execution_count": 58,
     "metadata": {},
     "output_type": "execute_result"
    }
   ],
   "source": [
    "# Преобразуем данные в массив tensor\n",
    "in_data = torch.tensor(np.array(X_train, dtype=np.float32))\n",
    "targets = torch.tensor(np.array(y_train, dtype=np.float32))\n",
    "\n",
    "in_data_test = torch.tensor(np.array(X_test, dtype=np.float32))\n",
    "targets_test = torch.tensor(np.array(y_test, dtype=np.float32))\n",
    "\n",
    "in_data.shape"
   ]
  },
  {
   "cell_type": "code",
   "execution_count": 68,
   "metadata": {},
   "outputs": [
    {
     "data": {
      "text/plain": [
       "tensor([[-8.3610e-01, -7.1599e-01, -1.0835e+00,  ..., -1.8454e-01,\n",
       "         -1.8454e-01, -6.0579e-01],\n",
       "        [ 1.6015e+00,  5.7440e-01,  1.3750e+00,  ...,  5.4188e+00,\n",
       "          5.4188e+00,  1.6507e+00],\n",
       "        [ 5.4346e-01, -1.9096e-01,  9.6157e-01,  ..., -1.8454e-01,\n",
       "         -1.8454e-01, -6.0579e-01],\n",
       "        ...,\n",
       "        [-1.4332e+00, -1.5604e+00,  3.0014e-01,  ..., -1.8454e-01,\n",
       "         -1.8454e-01, -6.0579e-01],\n",
       "        [-4.7872e-03, -3.4977e-01,  1.3750e+00,  ..., -1.8454e-01,\n",
       "         -1.8454e-01, -6.0579e-01],\n",
       "        [-2.2135e-01,  8.9221e-01,  9.6157e-01,  ..., -1.8454e-01,\n",
       "         -1.8454e-01,  1.6507e+00]])"
      ]
     },
     "execution_count": 68,
     "metadata": {},
     "output_type": "execute_result"
    }
   ],
   "source": [
    "in_data"
   ]
  },
  {
   "cell_type": "code",
   "execution_count": 69,
   "metadata": {},
   "outputs": [
    {
     "data": {
      "text/plain": [
       "tensor([ 3070.8086, 15161.5342,  8823.2793,  ...,  1964.7800,  7151.0918,\n",
       "         5836.5205])"
      ]
     },
     "execution_count": 69,
     "metadata": {},
     "output_type": "execute_result"
    }
   ],
   "source": [
    "targets"
   ]
  },
  {
   "cell_type": "code",
   "execution_count": 59,
   "metadata": {},
   "outputs": [
    {
     "name": "stdout",
     "output_type": "stream",
     "text": [
      "NET(\n",
      "  (fc1): Linear(in_features=167, out_features=100, bias=True)\n",
      "  (fc2): Linear(in_features=100, out_features=10, bias=True)\n",
      "  (fc3): Linear(in_features=10, out_features=1, bias=True)\n",
      ")\n"
     ]
    }
   ],
   "source": [
    "#Neural Network\n",
    "class NET(nn.Module):\n",
    "    def __init__(self):\n",
    "        super(NET,self).__init__()\n",
    "        self.fc1 = nn.Linear(167,100)\n",
    "        self.fc2 = nn.Linear(100, 10)\n",
    "        self.fc3 = nn.Linear(10,1)\n",
    "    def forward(self,x):\n",
    "        x = F.relu(self.fc1(x))\n",
    "        x = F.relu(self.fc2(x))\n",
    "        x = F.relu(self.fc3(x))\n",
    "        return x\n",
    "\n",
    "net = NET()\n",
    "print(net)"
   ]
  },
  {
   "cell_type": "code",
   "execution_count": 50,
   "metadata": {},
   "outputs": [
    {
     "name": "stdout",
     "output_type": "stream",
     "text": [
      "NET(\n",
      "  (linaer_relu_stack): Sequential(\n",
      "    (0): Linear(in_features=167, out_features=100, bias=True)\n",
      "    (1): Dropout(p=0.3, inplace=False)\n",
      "    (2): BatchNorm1d(100, eps=1e-05, momentum=0.1, affine=True, track_running_stats=True)\n",
      "    (3): ReLU()\n",
      "    (4): Linear(in_features=100, out_features=10, bias=True)\n",
      "    (5): Dropout(p=0.15, inplace=False)\n",
      "    (6): BatchNorm1d(10, eps=1e-05, momentum=0.1, affine=True, track_running_stats=True)\n",
      "    (7): ReLU()\n",
      "    (8): Linear(in_features=10, out_features=1, bias=True)\n",
      "  )\n",
      ")\n"
     ]
    }
   ],
   "source": [
    "#Neural Network\n",
    "class NET(nn.Module):\n",
    "    def __init__(self):\n",
    "        super(NET,self).__init__()\n",
    "        \n",
    "        self.linaer_relu_stack = nn.Sequential(\n",
    "                  \n",
    "        nn.Linear(167,100),\n",
    "        nn.Dropout(0.3),\n",
    "        nn.BatchNorm1d(100),\n",
    "        nn.ReLU(),\n",
    "        nn.Linear(100,10),\n",
    "        nn.Dropout(0.15),\n",
    "        nn.BatchNorm1d(10),\n",
    "        nn.ReLU(),\n",
    "        nn.Linear(10,1)\n",
    "        )\n",
    "        \n",
    "    def forward(self,x):\n",
    "        x = self.linaer_relu_stack(x)\n",
    "        return x\n",
    "        \n",
    "\n",
    "net = NET()\n",
    "print(net)"
   ]
  },
  {
   "cell_type": "code",
   "execution_count": 60,
   "metadata": {},
   "outputs": [],
   "source": [
    "# Зададим функцию потерь (среднеквадратическая ошибка) и оптимизатор \n",
    "criterion = nn.MSELoss()\n",
    "optimizer = optim.Adam(net.parameters(),lr=0.001)"
   ]
  },
  {
   "cell_type": "code",
   "execution_count": 61,
   "metadata": {},
   "outputs": [
    {
     "data": {
      "text/plain": [
       "(torch.Size([1002, 167]),\n",
       " torch.Size([1002]),\n",
       " torch.Size([335, 167]),\n",
       " torch.Size([335]))"
      ]
     },
     "execution_count": 61,
     "metadata": {},
     "output_type": "execute_result"
    }
   ],
   "source": [
    "in_data.shape, targets.shape, in_data_test.shape, targets_test.shape"
   ]
  },
  {
   "cell_type": "code",
   "execution_count": 62,
   "metadata": {},
   "outputs": [],
   "source": [
    "def train(in_data, targets, batch_size=16):\n",
    "    for i in tqdm(range(0, in_data.shape[0], batch_size)):\n",
    "        batch_x = in_data[i: i+batch_size]\n",
    "        batch_y = targets[i: i+batch_size]\n",
    "        \n",
    "        optimizer.zero_grad()\n",
    "        output = net(batch_x)\n",
    "        loss = criterion(output.reshape(-1), batch_y)\n",
    "        loss.backward()\n",
    "        optimizer.step()\n",
    "        \n",
    "    print(loss)"
   ]
  },
  {
   "cell_type": "code",
   "execution_count": 63,
   "metadata": {},
   "outputs": [
    {
     "name": "stderr",
     "output_type": "stream",
     "text": [
      "100%|█████████████████████████████████████████████████████████████████████████████████| 63/63 [00:00<00:00, 813.41it/s]"
     ]
    },
    {
     "name": "stdout",
     "output_type": "stream",
     "text": [
      "tensor(5.1166e+08, grad_fn=<MseLossBackward0>)\n"
     ]
    },
    {
     "name": "stderr",
     "output_type": "stream",
     "text": [
      "\n"
     ]
    }
   ],
   "source": [
    "train(in_data, targets, batch_size=16)"
   ]
  },
  {
   "cell_type": "code",
   "execution_count": 64,
   "metadata": {},
   "outputs": [],
   "source": [
    "#Сохранение и вызов модели\n",
    "model_p = 'model.pth'\n",
    "torch.save(net, model_p)\n",
    "\n",
    "net1 = torch.load(model_p)"
   ]
  },
  {
   "cell_type": "code",
   "execution_count": 65,
   "metadata": {},
   "outputs": [
    {
     "data": {
      "text/plain": [
       "-1.1122357904408475"
      ]
     },
     "execution_count": 65,
     "metadata": {},
     "output_type": "execute_result"
    }
   ],
   "source": [
    "y_pred = net(in_data_test)\n",
    "y_pred = y_pred.detach().numpy()\n",
    "r2_score(targets_test,y_pred)"
   ]
  },
  {
   "cell_type": "code",
   "execution_count": 66,
   "metadata": {},
   "outputs": [],
   "source": [
    "def test(in_data_test, targets_test):\n",
    "    \n",
    "    with torch.no_grad():\n",
    "        output = net(in_data_test).reshape(-1)\n",
    "\n",
    "    return r2_score(targets_test, output)"
   ]
  },
  {
   "cell_type": "code",
   "execution_count": 67,
   "metadata": {},
   "outputs": [
    {
     "name": "stdout",
     "output_type": "stream",
     "text": [
      "Epoch 1\n",
      "-------------------------------\n",
      "-1.1122357904408475\n",
      "Epoch 2\n",
      "-------------------------------\n",
      "-1.1122357904408475\n",
      "Epoch 3\n",
      "-------------------------------\n",
      "-1.1122357904408475\n",
      "Epoch 4\n",
      "-------------------------------\n",
      "-1.1122357904408475\n",
      "Epoch 5\n",
      "-------------------------------\n",
      "-1.1122357904408475\n",
      "Done!\n"
     ]
    }
   ],
   "source": [
    "epochs = 5\n",
    "for t in range(epochs):\n",
    "    print(f\"Epoch {t+1}\\n-------------------------------\")\n",
    "    print(test(in_data_test, targets_test))\n",
    "print(\"Done!\")"
   ]
  },
  {
   "cell_type": "code",
   "execution_count": null,
   "metadata": {},
   "outputs": [],
   "source": []
  }
 ],
 "metadata": {
  "kernelspec": {
   "display_name": "Python 3",
   "language": "python",
   "name": "python3"
  },
  "language_info": {
   "codemirror_mode": {
    "name": "ipython",
    "version": 3
   },
   "file_extension": ".py",
   "mimetype": "text/x-python",
   "name": "python",
   "nbconvert_exporter": "python",
   "pygments_lexer": "ipython3",
   "version": "3.8.3"
  }
 },
 "nbformat": 4,
 "nbformat_minor": 4
}
